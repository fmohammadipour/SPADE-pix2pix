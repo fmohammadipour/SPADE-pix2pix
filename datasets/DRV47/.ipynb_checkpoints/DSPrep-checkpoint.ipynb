{
 "cells": [
  {
   "cell_type": "code",
   "execution_count": null,
   "id": "4dadc4cf-81e6-4ce1-a2b6-e41844347414",
   "metadata": {},
   "outputs": [],
   "source": [
    "from PIL import Image, ImageOps\n",
    "import os\n",
    "\n",
    "def add_padding(image_path, output_path):\n",
    "    \"\"\"\n",
    "    Add padding to make the image square without resizing.\n",
    "    \"\"\"\n",
    "    try:\n",
    "        img = Image.open(image_path)\n",
    "        \n",
    "        # Determine the size of the image\n",
    "        width, height = img.size\n",
    "        \n",
    "        # Calculate the size of the square that will contain the image without resizing\n",
    "        size = max(width, height)\n",
    "        \n",
    "        # Create a new image with a white background\n",
    "        padded_img = Image.new('RGB', (size, size), color='white')\n",
    "        \n",
    "        # Calculate the position where the original image should be pasted\n",
    "        x = (size - width) // 2\n",
    "        y = (size - height) // 2\n",
    "        \n",
    "        # Paste the original image onto the padded image\n",
    "        padded_img.paste(img, (x, y))\n",
    "        \n",
    "        # Save the padded image\n",
    "        padded_img.save(output_path)\n",
    "        \n",
    "        print(f\"Padding added to {image_path}.\")\n",
    "        \n",
    "    except Exception as e:\n",
    "        print(f\"Error adding padding to {image_path}: {e}\")\n",
    "\n",
    "def process_folder(input_folder, output_folder):\n",
    "    \"\"\"\n",
    "    Process all images in a folder to add padding and save in output folder.\n",
    "    \"\"\"\n",
    "    os.makedirs(output_folder, exist_ok=True)\n",
    "    for filename in os.listdir(input_folder):\n",
    "        input_path = os.path.join(input_folder, filename)\n",
    "        output_path = os.path.join(output_folder, filename)\n",
    "        add_padding(input_path, output_path)\n",
    "\n",
    "# Paths to your original and projected folders\n",
    "original_folder = 'original'\n",
    "projected_folder = 'projected'\n",
    "\n",
    "# Paths to output folders for padded images\n",
    "original_padded_folder = 'original_padded'\n",
    "projected_padded_folder = 'projected_padded'\n",
    "\n",
    "# Process original images\n",
    "process_folder(original_folder, original_padded_folder)\n",
    "\n",
    "# Process projected images\n",
    "process_folder(projected_folder, projected_padded_folder)\n"
   ]
  },
  {
   "cell_type": "code",
   "execution_count": null,
   "id": "e00d5b3b-3108-46a5-891b-9c80765c072b",
   "metadata": {},
   "outputs": [],
   "source": []
  }
 ],
 "metadata": {
  "kernelspec": {
   "display_name": "Python 3.11 (ipykernel)",
   "language": "python",
   "name": "python3"
  },
  "language_info": {
   "codemirror_mode": {
    "name": "ipython",
    "version": 3
   },
   "file_extension": ".py",
   "mimetype": "text/x-python",
   "name": "python",
   "nbconvert_exporter": "python",
   "pygments_lexer": "ipython3",
   "version": "3.11.0"
  }
 },
 "nbformat": 4,
 "nbformat_minor": 5
}
