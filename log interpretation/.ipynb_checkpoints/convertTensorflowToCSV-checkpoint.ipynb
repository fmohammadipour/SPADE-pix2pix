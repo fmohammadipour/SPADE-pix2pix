{
 "cells": [
  {
   "cell_type": "code",
   "execution_count": 1,
   "id": "6e26fff1-cba7-4299-b5e0-744fd7ba661e",
   "metadata": {
    "tags": []
   },
   "outputs": [
    {
     "name": "stdout",
     "output_type": "stream",
     "text": [
      "Defaulting to user installation because normal site-packages is not writeable\n",
      "Requirement already satisfied: tensorflow in /home/hpc/i9vl/i9vl102h/.local/lib/python3.11/site-packages (2.16.2)\n",
      "Requirement already satisfied: absl-py>=1.0.0 in /home/hpc/i9vl/i9vl102h/.local/lib/python3.11/site-packages (from tensorflow) (2.1.0)\n",
      "Requirement already satisfied: astunparse>=1.6.0 in /home/hpc/i9vl/i9vl102h/.local/lib/python3.11/site-packages (from tensorflow) (1.6.3)\n",
      "Requirement already satisfied: flatbuffers>=23.5.26 in /home/hpc/i9vl/i9vl102h/.local/lib/python3.11/site-packages (from tensorflow) (24.3.25)\n",
      "Requirement already satisfied: gast!=0.5.0,!=0.5.1,!=0.5.2,>=0.2.1 in /home/hpc/i9vl/i9vl102h/.local/lib/python3.11/site-packages (from tensorflow) (0.6.0)\n",
      "Requirement already satisfied: google-pasta>=0.1.1 in /home/hpc/i9vl/i9vl102h/.local/lib/python3.11/site-packages (from tensorflow) (0.2.0)\n",
      "Requirement already satisfied: h5py>=3.10.0 in /home/hpc/i9vl/i9vl102h/.local/lib/python3.11/site-packages (from tensorflow) (3.11.0)\n",
      "Requirement already satisfied: libclang>=13.0.0 in /home/hpc/i9vl/i9vl102h/.local/lib/python3.11/site-packages (from tensorflow) (18.1.1)\n",
      "Requirement already satisfied: ml-dtypes~=0.3.1 in /home/hpc/i9vl/i9vl102h/.local/lib/python3.11/site-packages (from tensorflow) (0.3.2)\n",
      "Requirement already satisfied: opt-einsum>=2.3.2 in /home/hpc/i9vl/i9vl102h/.local/lib/python3.11/site-packages (from tensorflow) (3.3.0)\n",
      "Requirement already satisfied: packaging in /apps/jupyterhub/jh3.1.1-py3.11/lib/python3.11/site-packages (from tensorflow) (23.0)\n",
      "Requirement already satisfied: protobuf!=4.21.0,!=4.21.1,!=4.21.2,!=4.21.3,!=4.21.4,!=4.21.5,<5.0.0dev,>=3.20.3 in /home/hpc/i9vl/i9vl102h/.local/lib/python3.11/site-packages (from tensorflow) (4.25.3)\n",
      "Requirement already satisfied: requests<3,>=2.21.0 in /apps/jupyterhub/jh3.1.1-py3.11/lib/python3.11/site-packages (from tensorflow) (2.28.2)\n",
      "Requirement already satisfied: setuptools in /apps/jupyterhub/jh3.1.1-py3.11/lib/python3.11/site-packages (from tensorflow) (67.5.1)\n",
      "Requirement already satisfied: six>=1.12.0 in /apps/jupyterhub/jh3.1.1-py3.11/lib/python3.11/site-packages (from tensorflow) (1.16.0)\n",
      "Requirement already satisfied: termcolor>=1.1.0 in /home/hpc/i9vl/i9vl102h/.local/lib/python3.11/site-packages (from tensorflow) (2.4.0)\n",
      "Requirement already satisfied: typing-extensions>=3.6.6 in /home/hpc/i9vl/i9vl102h/.local/lib/python3.11/site-packages (from tensorflow) (4.12.2)\n",
      "Requirement already satisfied: wrapt>=1.11.0 in /apps/jupyterhub/jh3.1.1-py3.11/lib/python3.11/site-packages (from tensorflow) (1.15.0)\n",
      "Requirement already satisfied: grpcio<2.0,>=1.24.3 in /home/hpc/i9vl/i9vl102h/.local/lib/python3.11/site-packages (from tensorflow) (1.64.0)\n",
      "Requirement already satisfied: tensorboard<2.17,>=2.16 in /home/hpc/i9vl/i9vl102h/.local/lib/python3.11/site-packages (from tensorflow) (2.16.2)\n",
      "Requirement already satisfied: keras>=3.0.0 in /home/hpc/i9vl/i9vl102h/.local/lib/python3.11/site-packages (from tensorflow) (3.4.1)\n",
      "Requirement already satisfied: tensorflow-io-gcs-filesystem>=0.23.1 in /home/hpc/i9vl/i9vl102h/.local/lib/python3.11/site-packages (from tensorflow) (0.37.0)\n",
      "Requirement already satisfied: numpy<2.0.0,>=1.23.5 in /apps/jupyterhub/jh3.1.1-py3.11/lib/python3.11/site-packages (from tensorflow) (1.24.2)\n",
      "Requirement already satisfied: wheel<1.0,>=0.23.0 in /apps/jupyterhub/jh3.1.1-py3.11/lib/python3.11/site-packages (from astunparse>=1.6.0->tensorflow) (0.38.4)\n",
      "Requirement already satisfied: rich in /home/hpc/i9vl/i9vl102h/.local/lib/python3.11/site-packages (from keras>=3.0.0->tensorflow) (13.7.1)\n",
      "Requirement already satisfied: namex in /home/hpc/i9vl/i9vl102h/.local/lib/python3.11/site-packages (from keras>=3.0.0->tensorflow) (0.0.8)\n",
      "Requirement already satisfied: optree in /home/hpc/i9vl/i9vl102h/.local/lib/python3.11/site-packages (from keras>=3.0.0->tensorflow) (0.11.0)\n",
      "Requirement already satisfied: charset-normalizer<4,>=2 in /apps/jupyterhub/jh3.1.1-py3.11/lib/python3.11/site-packages (from requests<3,>=2.21.0->tensorflow) (2.1.1)\n",
      "Requirement already satisfied: idna<4,>=2.5 in /apps/jupyterhub/jh3.1.1-py3.11/lib/python3.11/site-packages (from requests<3,>=2.21.0->tensorflow) (3.4)\n",
      "Requirement already satisfied: urllib3<1.27,>=1.21.1 in /apps/jupyterhub/jh3.1.1-py3.11/lib/python3.11/site-packages (from requests<3,>=2.21.0->tensorflow) (1.26.14)\n",
      "Requirement already satisfied: certifi>=2017.4.17 in /apps/jupyterhub/jh3.1.1-py3.11/lib/python3.11/site-packages (from requests<3,>=2.21.0->tensorflow) (2022.12.7)\n",
      "Requirement already satisfied: markdown>=2.6.8 in /home/hpc/i9vl/i9vl102h/.local/lib/python3.11/site-packages (from tensorboard<2.17,>=2.16->tensorflow) (3.6)\n",
      "Requirement already satisfied: tensorboard-data-server<0.8.0,>=0.7.0 in /home/hpc/i9vl/i9vl102h/.local/lib/python3.11/site-packages (from tensorboard<2.17,>=2.16->tensorflow) (0.7.2)\n",
      "Requirement already satisfied: werkzeug>=1.0.1 in /home/hpc/i9vl/i9vl102h/.local/lib/python3.11/site-packages (from tensorboard<2.17,>=2.16->tensorflow) (3.0.3)\n",
      "Requirement already satisfied: MarkupSafe>=2.1.1 in /apps/jupyterhub/jh3.1.1-py3.11/lib/python3.11/site-packages (from werkzeug>=1.0.1->tensorboard<2.17,>=2.16->tensorflow) (2.1.2)\n",
      "Requirement already satisfied: markdown-it-py>=2.2.0 in /home/hpc/i9vl/i9vl102h/.local/lib/python3.11/site-packages (from rich->keras>=3.0.0->tensorflow) (3.0.0)\n",
      "Requirement already satisfied: pygments<3.0.0,>=2.13.0 in /apps/jupyterhub/jh3.1.1-py3.11/lib/python3.11/site-packages (from rich->keras>=3.0.0->tensorflow) (2.14.0)\n",
      "Requirement already satisfied: mdurl~=0.1 in /home/hpc/i9vl/i9vl102h/.local/lib/python3.11/site-packages (from markdown-it-py>=2.2.0->rich->keras>=3.0.0->tensorflow) (0.1.2)\n"
     ]
    }
   ],
   "source": [
    "!pip install tensorflow"
   ]
  },
  {
   "cell_type": "code",
   "execution_count": 2,
   "id": "506d5a5e-d0a6-4aa8-bb75-b7b1e16f3949",
   "metadata": {
    "tags": []
   },
   "outputs": [
    {
     "name": "stderr",
     "output_type": "stream",
     "text": [
      "2024-07-19 09:56:28.318834: E external/local_xla/xla/stream_executor/cuda/cuda_fft.cc:479] Unable to register cuFFT factory: Attempting to register factory for plugin cuFFT when one has already been registered\n",
      "2024-07-19 09:56:28.339677: E external/local_xla/xla/stream_executor/cuda/cuda_dnn.cc:10575] Unable to register cuDNN factory: Attempting to register factory for plugin cuDNN when one has already been registered\n",
      "2024-07-19 09:56:28.339710: E external/local_xla/xla/stream_executor/cuda/cuda_blas.cc:1442] Unable to register cuBLAS factory: Attempting to register factory for plugin cuBLAS when one has already been registered\n",
      "2024-07-19 09:56:28.352861: I tensorflow/core/platform/cpu_feature_guard.cc:210] This TensorFlow binary is optimized to use available CPU instructions in performance-critical operations.\n",
      "To enable the following instructions: AVX2 FMA, in other operations, rebuild TensorFlow with the appropriate compiler flags.\n",
      "2024-07-19 09:56:31.687460: W tensorflow/compiler/tf2tensorrt/utils/py_utils.cc:38] TF-TRT Warning: Could not find TensorRT\n"
     ]
    },
    {
     "name": "stdout",
     "output_type": "stream",
     "text": [
      "WARNING:tensorflow:From /home/hpc/i9vl/i9vl102h/.local/lib/python3.11/site-packages/tensorflow/python/summary/summary_iterator.py:27: tf_record_iterator (from tensorflow.python.lib.io.tf_record) is deprecated and will be removed in a future version.\n",
      "Instructions for updating:\n",
      "Use eager execution and: \n",
      "`tf.data.TFRecordDataset(path)`\n"
     ]
    }
   ],
   "source": [
    "import tensorflow as tf\n",
    "import pandas as pd\n",
    "\n",
    "def extract_scalars_from_event_file(file_path):\n",
    "    scalar_data = {}\n",
    "    for e in tf.compat.v1.train.summary_iterator(file_path):\n",
    "        for v in e.summary.value:\n",
    "            if v.tag not in scalar_data:\n",
    "                scalar_data[v.tag] = []\n",
    "            scalar_data[v.tag].append((e.step, v.simple_value))\n",
    "    return scalar_data\n",
    "\n",
    "# Path to log files\n",
    "#tensorboard_log_without_path = 'events.out.tfevents.1719168029.tg069.312403.0'\n",
    "tensorboard_log_withsq_path = 'events.out.tfevents.1721973417.tg082.2137561.0'\n",
    "\n",
    "# Extract scalar data\n",
    "#scalar_data_without = extract_scalars_from_event_file(tensorboard_log_without_path)\n",
    "scalar_data_withsq = extract_scalars_from_event_file(tensorboard_log_withsq_path)\n",
    "\n",
    "# Convert to DataFrame for easier analysis\n",
    "#df_without = pd.DataFrame({tag: dict(values) for tag, values in scalar_data_without.items()})\n",
    "df_withsq = pd.DataFrame({tag: dict(values) for tag, values in scalar_data_withsq.items()})\n",
    "\n",
    "# Save DataFrames to CSV\n",
    "#df_without.to_csv('metrics_without.csv')\n",
    "df_withsq.to_csv('TF_Masking.csv')\n"
   ]
  },
  {
   "cell_type": "code",
   "execution_count": null,
   "id": "fa7b98c4-2d3f-493a-9d58-e4c533cea0d3",
   "metadata": {},
   "outputs": [],
   "source": []
  }
 ],
 "metadata": {
  "kernelspec": {
   "display_name": "Python 3.11 (ipykernel)",
   "language": "python",
   "name": "python3"
  },
  "language_info": {
   "codemirror_mode": {
    "name": "ipython",
    "version": 3
   },
   "file_extension": ".py",
   "mimetype": "text/x-python",
   "name": "python",
   "nbconvert_exporter": "python",
   "pygments_lexer": "ipython3",
   "version": "3.11.0"
  }
 },
 "nbformat": 4,
 "nbformat_minor": 5
}
